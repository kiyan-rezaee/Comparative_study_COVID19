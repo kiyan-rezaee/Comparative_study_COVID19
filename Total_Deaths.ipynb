{
 "cells": [
  {
   "cell_type": "code",
   "execution_count": 1,
   "id": "cf5f8466",
   "metadata": {},
   "outputs": [],
   "source": [
    "import pandas as pd\n",
    "import numpy as np"
   ]
  },
  {
   "cell_type": "code",
   "execution_count": null,
   "id": "5ef709af",
   "metadata": {
    "scrolled": true
   },
   "outputs": [],
   "source": [
    "WHO = pd.read_csv('WHO-COVID-19-global-table-data.csv', header=0)\n",
    "Continents = ['Americas', 'Western Pacific', 'South-East Asia', 'Europe', 'Eastern Mediterranean', 'Africa', 'Other']\n",
    "results = {}\n",
    "maxim = []\n",
    "for i in Continents:\n",
    "    counter = 0\n",
    "    mx = -999999999\n",
    "    for i in WHO[WHO['Name']==i]['Cases - newly reported in last 24 hours']:\n",
    "        if int(i) > mx:\n",
    "            mx = int(i)\n",
    "    maxim.append(mx)\n",
    "print(maxim)\n",
    "\n",
    "for i in maxim:\n",
    "    WHO[WHO['Cases - newly reported in last 24 hours']== int(i)]\n",
    "    print(WHO[WHO['Cases - newly reported in last 24 hours']== int(i)]['Name'])\n",
    "# df['Deaths - cumulative total']"
   ]
  },
  {
   "cell_type": "code",
   "execution_count": 2,
   "id": "d7963ea2",
   "metadata": {
    "scrolled": true
   },
   "outputs": [
    {
     "data": {
      "text/plain": [
       "array(['Asia', nan, 'Europe', 'Africa', 'Oceania', 'North America',\n",
       "       'South America'], dtype=object)"
      ]
     },
     "execution_count": 2,
     "metadata": {},
     "output_type": "execute_result"
    }
   ],
   "source": [
    "Covid = pd.read_csv('owid-covid-data.csv')\n",
    "Covid['iso_code'].unique()\n",
    "Covid['continent'].unique()"
   ]
  },
  {
   "cell_type": "code",
   "execution_count": 27,
   "id": "43902be1",
   "metadata": {},
   "outputs": [
    {
     "data": {
      "text/html": [
       "<div>\n",
       "<style scoped>\n",
       "    .dataframe tbody tr th:only-of-type {\n",
       "        vertical-align: middle;\n",
       "    }\n",
       "\n",
       "    .dataframe tbody tr th {\n",
       "        vertical-align: top;\n",
       "    }\n",
       "\n",
       "    .dataframe thead th {\n",
       "        text-align: right;\n",
       "    }\n",
       "</style>\n",
       "<table border=\"1\" class=\"dataframe\">\n",
       "  <thead>\n",
       "    <tr style=\"text-align: right;\">\n",
       "      <th></th>\n",
       "      <th>iso_code</th>\n",
       "      <th>continent</th>\n",
       "      <th>total_deaths</th>\n",
       "    </tr>\n",
       "  </thead>\n",
       "  <tbody>\n",
       "    <tr>\n",
       "      <th>0</th>\n",
       "      <td>AFG</td>\n",
       "      <td>Asia</td>\n",
       "      <td>0.0</td>\n",
       "    </tr>\n",
       "    <tr>\n",
       "      <th>1</th>\n",
       "      <td>AFG</td>\n",
       "      <td>Asia</td>\n",
       "      <td>0.0</td>\n",
       "    </tr>\n",
       "    <tr>\n",
       "      <th>2</th>\n",
       "      <td>AFG</td>\n",
       "      <td>Asia</td>\n",
       "      <td>0.0</td>\n",
       "    </tr>\n",
       "    <tr>\n",
       "      <th>3</th>\n",
       "      <td>AFG</td>\n",
       "      <td>Asia</td>\n",
       "      <td>0.0</td>\n",
       "    </tr>\n",
       "    <tr>\n",
       "      <th>4</th>\n",
       "      <td>AFG</td>\n",
       "      <td>Asia</td>\n",
       "      <td>0.0</td>\n",
       "    </tr>\n",
       "  </tbody>\n",
       "</table>\n",
       "</div>"
      ],
      "text/plain": [
       "  iso_code continent  total_deaths\n",
       "0      AFG      Asia           0.0\n",
       "1      AFG      Asia           0.0\n",
       "2      AFG      Asia           0.0\n",
       "3      AFG      Asia           0.0\n",
       "4      AFG      Asia           0.0"
      ]
     },
     "execution_count": 27,
     "metadata": {},
     "output_type": "execute_result"
    }
   ],
   "source": [
    "c_d = Covid[['iso_code','continent', 'total_deaths']]\n",
    "c_d = c_d.fillna(0)\n",
    "c_d.head()"
   ]
  },
  {
   "cell_type": "code",
   "execution_count": 28,
   "id": "6ed05cbf",
   "metadata": {
    "scrolled": true
   },
   "outputs": [
    {
     "data": {
      "text/plain": [
       "['TKM',\n",
       " 'BTN',\n",
       " 'ISR',\n",
       " 'TLS',\n",
       " 'CHN',\n",
       " 'SAU',\n",
       " 'SYR',\n",
       " 'OMN',\n",
       " 'IDN',\n",
       " 'JOR',\n",
       " 'HKG',\n",
       " 'IND',\n",
       " 'MAC',\n",
       " 'KGZ',\n",
       " 'MNG',\n",
       " 'THA',\n",
       " 'SGP',\n",
       " 'YEM',\n",
       " 'NPL',\n",
       " 'VNM',\n",
       " 'TWN',\n",
       " 'JPN',\n",
       " 'OWID_CYN',\n",
       " 'MMR',\n",
       " 'GEO',\n",
       " 'BGD',\n",
       " 'LBN',\n",
       " 'UZB',\n",
       " 'KHM',\n",
       " 'QAT',\n",
       " 'PRK',\n",
       " 'LAO',\n",
       " 'KAZ',\n",
       " 'ARM',\n",
       " 'PHL',\n",
       " 'KWT',\n",
       " 'IRN',\n",
       " 'LKA',\n",
       " 'MDV',\n",
       " 'AZE',\n",
       " 'AFG',\n",
       " 'KOR',\n",
       " 'TUR',\n",
       " 'MYS',\n",
       " 'TJK',\n",
       " 'BHR',\n",
       " 'BRN',\n",
       " 'IRQ',\n",
       " 'PSE',\n",
       " 'ARE',\n",
       " 'PAK']"
      ]
     },
     "execution_count": 28,
     "metadata": {},
     "output_type": "execute_result"
    }
   ],
   "source": [
    "list(set(c_d[c_d['continent'] == 'Asia']['iso_code'].tolist()))"
   ]
  },
  {
   "cell_type": "code",
   "execution_count": null,
   "id": "d271bc20",
   "metadata": {},
   "outputs": [],
   "source": [
    "oceania = ['NZL',\n",
    " 'FJI',\n",
    " 'SLB',\n",
    " 'AUS',\n",
    " 'COK',\n",
    " 'MHL',\n",
    " 'PLW',\n",
    " 'NRU',\n",
    " 'NCL',\n",
    " 'PYF',\n",
    " 'VUT',\n",
    " 'TUV',\n",
    " 'PCN',\n",
    " 'NIU',\n",
    " 'GUM',\n",
    " 'KIR',\n",
    " 'PNG',\n",
    " 'TKL',\n",
    " 'WLF',\n",
    " 'FSM',\n",
    " 'MNP',\n",
    " 'TON',\n",
    " 'ASM',\n",
    " 'WSM']"
   ]
  },
  {
   "cell_type": "code",
   "execution_count": 36,
   "id": "19bd3b82",
   "metadata": {},
   "outputs": [],
   "source": [
    "c = ['Asia','Europe', 'Africa', 'Oceania', 'North America',\n",
    "       'South America']"
   ]
  },
  {
   "cell_type": "code",
   "execution_count": 37,
   "id": "78635e5c",
   "metadata": {},
   "outputs": [
    {
     "name": "stdout",
     "output_type": "stream",
     "text": [
      "IND 531908.0\n",
      "RUS 399649.0\n",
      "ZAF 102595.0\n",
      "AUS 21917.0\n",
      "USA 1127152.0\n",
      "BRA 703964.0\n"
     ]
    }
   ],
   "source": [
    "for q in c:\n",
    "    max_val = 0\n",
    "    max_c = ''\n",
    "    for z in (list(set(c_d[c_d['continent'] == q]['iso_code'].tolist()))):\n",
    "        if max_val < max(c_d[c_d['iso_code']==z]['total_deaths'].tolist()):\n",
    "            max_c = z\n",
    "            max_val = max(c_d[c_d['iso_code']==z]['total_deaths'].tolist())\n",
    "    print(max_c, max_val)\n",
    "            "
   ]
  },
  {
   "cell_type": "code",
   "execution_count": null,
   "id": "473ac022",
   "metadata": {},
   "outputs": [],
   "source": [
    "import math\n",
    "\n",
    "for k in c:\n",
    "    oc_countries = []\n",
    "    oc_total_deaths = []\n",
    "    print(k)\n",
    "    for i in list(set(Covid[Covid['continent'] == k]['iso_code'].tolist())):\n",
    "        j = -1\n",
    "        while True:\n",
    "            try:\n",
    "                Covid[Covid['iso_code']==i]['total_deaths'].tolist()[j]\n",
    "                if math.isnan(Covid[Covid['iso_code']==i]['total_deaths'].tolist()[j]):\n",
    "                    j -= 1\n",
    "                    continue\n",
    "                else:\n",
    "                    oc_total_deaths.append(Covid[Covid['iso_code']==i]['total_deaths'].tolist()[j])\n",
    "                    oc_countries.append(i)\n",
    "                    break\n",
    "            except:\n",
    "                break\n",
    "                \n",
    "\n",
    "    print(oc_countries)\n",
    "    print(oc_total_deaths)\n",
    "    maxis = 0\n",
    "    m_c = ''\n",
    "    for q in range(len(oc_countries)):\n",
    "        if oc_total_deaths[q] > maxis:\n",
    "            maxis = oc_total_deaths[q]\n",
    "            m_c = oc_countries[q]\n",
    "    print(maxis, m_c)\n",
    "    print('----------------------------------')"
   ]
  },
  {
   "cell_type": "code",
   "execution_count": null,
   "id": "f2c65de2",
   "metadata": {},
   "outputs": [],
   "source": []
  },
  {
   "cell_type": "code",
   "execution_count": null,
   "id": "ffa78a6c",
   "metadata": {},
   "outputs": [],
   "source": []
  },
  {
   "cell_type": "code",
   "execution_count": null,
   "id": "a7452f49",
   "metadata": {},
   "outputs": [],
   "source": []
  },
  {
   "cell_type": "code",
   "execution_count": null,
   "id": "e2bce5fa",
   "metadata": {},
   "outputs": [],
   "source": [
    "Covid.columns"
   ]
  },
  {
   "cell_type": "code",
   "execution_count": null,
   "id": "34309b42",
   "metadata": {},
   "outputs": [],
   "source": [
    "iso_unique = ['AFG', 'OWID_AFR', 'ALB', 'DZA', 'ASM', 'AND', 'AGO', 'AIA', 'ATG',\n",
    "       'ARG', 'ARM', 'ABW', 'OWID_ASI', 'AUS', 'AUT', 'AZE', 'BHS', 'BHR',\n",
    "       'BGD', 'BRB', 'BLR', 'BEL', 'BLZ', 'BEN', 'BMU', 'BTN', 'BOL',\n",
    "       'BES', 'BIH', 'BWA', 'BRA', 'VGB', 'BRN', 'BGR', 'BFA', 'BDI',\n",
    "       'KHM', 'CMR', 'CAN', 'CPV', 'CYM', 'CAF', 'TCD', 'CHL', 'CHN',\n",
    "       'COL', 'COM', 'COG', 'COK', 'CRI', 'CIV', 'HRV', 'CUB', 'CUW',\n",
    "       'CYP', 'CZE', 'COD', 'DNK', 'DJI', 'DMA', 'DOM', 'ECU', 'EGY',\n",
    "       'SLV', 'OWID_ENG', 'GNQ', 'ERI', 'EST', 'SWZ', 'ETH', 'OWID_EUR',\n",
    "       'OWID_EUN', 'FRO', 'FLK', 'FJI', 'FIN', 'FRA', 'GUF', 'PYF', 'GAB',\n",
    "       'GMB', 'GEO', 'DEU', 'GHA', 'GIB', 'GRC', 'GRL', 'GRD', 'GLP',\n",
    "       'GUM', 'GTM', 'GGY', 'GIN', 'GNB', 'GUY', 'HTI', 'OWID_HIC', 'HND',\n",
    "       'HKG', 'HUN', 'ISL', 'IND', 'IDN', 'IRN', 'IRQ', 'IRL', 'IMN',\n",
    "       'ISR', 'ITA', 'JAM', 'JPN', 'JEY', 'JOR', 'KAZ', 'KEN', 'KIR',\n",
    "       'OWID_KOS', 'KWT', 'KGZ', 'LAO', 'LVA', 'LBN', 'LSO', 'LBR', 'LBY',\n",
    "       'LIE', 'LTU', 'OWID_LIC', 'OWID_LMC', 'LUX', 'MAC', 'MDG', 'MWI',\n",
    "       'MYS', 'MDV', 'MLI', 'MLT', 'MHL', 'MTQ', 'MRT', 'MUS', 'MYT',\n",
    "       'MEX', 'FSM', 'MDA', 'MCO', 'MNG', 'MNE', 'MSR', 'MAR', 'MOZ',\n",
    "       'MMR', 'NAM', 'NRU', 'NPL', 'NLD', 'NCL', 'NZL', 'NIC', 'NER',\n",
    "       'NGA', 'NIU', 'OWID_NAM', 'PRK', 'MKD', 'OWID_CYN', 'OWID_NIR',\n",
    "       'MNP', 'NOR', 'OWID_OCE', 'OMN', 'PAK', 'PLW', 'PSE', 'PAN', 'PNG',\n",
    "       'PRY', 'PER', 'PHL', 'PCN', 'POL', 'PRT', 'PRI', 'QAT', 'REU',\n",
    "       'ROU', 'RUS', 'RWA', 'BLM', 'SHN', 'KNA', 'LCA', 'MAF', 'SPM',\n",
    "       'VCT', 'WSM', 'SMR', 'STP', 'SAU', 'OWID_SCT', 'SEN', 'SRB', 'SYC',\n",
    "       'SLE', 'SGP', 'SXM', 'SVK', 'SVN', 'SLB', 'SOM', 'ZAF', 'OWID_SAM',\n",
    "       'KOR', 'SSD', 'ESP', 'LKA', 'SDN', 'SUR', 'SWE', 'CHE', 'SYR',\n",
    "       'TWN', 'TJK', 'TZA', 'THA', 'TLS', 'TGO', 'TKL', 'TON', 'TTO',\n",
    "       'TUN', 'TUR', 'TKM', 'TCA', 'TUV', 'UGA', 'UKR', 'ARE', 'GBR',\n",
    "       'USA', 'VIR', 'OWID_UMC', 'URY', 'UZB', 'VUT', 'VAT', 'VEN', 'VNM',\n",
    "       'OWID_WLS', 'WLF', 'ESH', 'OWID_WRL', 'YEM', 'ZMB', 'ZWE']"
   ]
  },
  {
   "cell_type": "code",
   "execution_count": null,
   "id": "c0077eb5",
   "metadata": {},
   "outputs": [],
   "source": [
    "Cont = []\n",
    "for i in iso_unique:\n",
    "    Cont.append(Covid[Covid['iso_code']==i]['continent'].tolist()[-1])\n",
    "print(Cont)"
   ]
  },
  {
   "cell_type": "code",
   "execution_count": null,
   "id": "439500d6",
   "metadata": {
    "scrolled": true
   },
   "outputs": [],
   "source": [
    "keys = []\n",
    "values = []\n",
    "j = 0\n",
    "for i in iso_unique:\n",
    "    keys.append(f'{i}-{Cont[j]}')\n",
    "    values.append(Covid[Covid['iso_code']==i]['total_deaths'].tolist()[-1])\n",
    "    j += 1\n",
    "print(keys)"
   ]
  },
  {
   "cell_type": "code",
   "execution_count": null,
   "id": "c91a44c5",
   "metadata": {},
   "outputs": [],
   "source": [
    "Covid['continent'].unique()"
   ]
  },
  {
   "cell_type": "code",
   "execution_count": null,
   "id": "50aa6382",
   "metadata": {},
   "outputs": [],
   "source": [
    "keys"
   ]
  },
  {
   "cell_type": "code",
   "execution_count": null,
   "id": "a8a524cf",
   "metadata": {},
   "outputs": [],
   "source": [
    "results"
   ]
  },
  {
   "cell_type": "code",
   "execution_count": null,
   "id": "af70c884",
   "metadata": {},
   "outputs": [],
   "source": [
    "import math\n",
    "\n",
    "Continent_unique = ['Asia', 'Europe', 'Africa', 'Oceania', 'North America','South America']\n",
    "results = []\n",
    "for i in Continent_unique:\n",
    "    temp = []\n",
    "    for j in range(len(keys)):\n",
    "        if i in keys[j]:\n",
    "            if math.isnan(values[j]):\n",
    "                pass\n",
    "            else:\n",
    "                temp.append(values[j])\n",
    "    results.append(temp)\n",
    "\n",
    "maxi = []\n",
    "mini = []\n",
    "for i in results:\n",
    "    maxi.append(max(i))\n",
    "    mini.append(min(i))\n"
   ]
  },
  {
   "cell_type": "code",
   "execution_count": null,
   "id": "afefae92",
   "metadata": {},
   "outputs": [],
   "source": [
    "for i in range(len(values)):\n",
    "    for k in maxi:\n",
    "        if k == values[i]:\n",
    "            print(k, keys[i])\n",
    "print('----------------')\n",
    "for i in range(len(values)):\n",
    "    for q in mini:\n",
    "        if q == values[i]:\n",
    "            print(q, keys[i])"
   ]
  }
 ],
 "metadata": {
  "kernelspec": {
   "display_name": "Python 3 (ipykernel)",
   "language": "python",
   "name": "python3"
  },
  "language_info": {
   "codemirror_mode": {
    "name": "ipython",
    "version": 3
   },
   "file_extension": ".py",
   "mimetype": "text/x-python",
   "name": "python",
   "nbconvert_exporter": "python",
   "pygments_lexer": "ipython3",
   "version": "3.8.16"
  }
 },
 "nbformat": 4,
 "nbformat_minor": 5
}
