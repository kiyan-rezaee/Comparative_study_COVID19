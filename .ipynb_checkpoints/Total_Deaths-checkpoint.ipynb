{
 "cells": [
  {
   "cell_type": "code",
   "execution_count": 30,
   "id": "cf5f8466",
   "metadata": {},
   "outputs": [],
   "source": [
    "import pandas as pd\n",
    "import numpy as np"
   ]
  },
  {
   "cell_type": "code",
   "execution_count": 48,
   "id": "5ef709af",
   "metadata": {},
   "outputs": [
    {
     "name": "stdout",
     "output_type": "stream",
     "text": [
      "[1127152, 121490, 531908, 399649, 146297, 102595, 13]\n",
      "United States of America    Americas\n",
      "Name: Name, dtype: object\n",
      "China    Western Pacific\n",
      "Name: Name, dtype: object\n",
      "India    South-East Asia\n",
      "Name: Name, dtype: object\n",
      "Russian Federation    Europe\n",
      "Name: Name, dtype: object\n",
      "Iran (Islamic Republic of)    Eastern Mediterranean\n",
      "Name: Name, dtype: object\n",
      "South Africa    Africa\n",
      "Name: Name, dtype: object\n",
      "Other    Other\n",
      "Name: Name, dtype: object\n"
     ]
    }
   ],
   "source": [
    "df = pd.read_csv('WHO-COVID-19-global-table-data.csv', header=0)\n",
    "Continents = ['Americas', 'Western Pacific', 'South-East Asia', 'Europe', 'Eastern Mediterranean', 'Africa', 'Other']\n",
    "results = {}\n",
    "maxim = []\n",
    "for i in Continents:\n",
    "    counter = 0\n",
    "    mx = -999999999\n",
    "    for i in df[df['Name']==i]['Cases - newly reported in last 24 hours']:\n",
    "        if int(i) > mx:\n",
    "            mx = int(i)\n",
    "    maxim.append(mx)\n",
    "print(maxim)\n",
    "\n",
    "for i in maxim:\n",
    "    df[df['Cases - newly reported in last 24 hours']== int(i)]\n",
    "    print(df[df['Cases - newly reported in last 24 hours']== int(i)]['Name'])\n",
    "# df['Deaths - cumulative total']"
   ]
  }
 ],
 "metadata": {
  "kernelspec": {
   "display_name": "Python 3 (ipykernel)",
   "language": "python",
   "name": "python3"
  },
  "language_info": {
   "codemirror_mode": {
    "name": "ipython",
    "version": 3
   },
   "file_extension": ".py",
   "mimetype": "text/x-python",
   "name": "python",
   "nbconvert_exporter": "python",
   "pygments_lexer": "ipython3",
   "version": "3.8.16"
  }
 },
 "nbformat": 4,
 "nbformat_minor": 5
}
