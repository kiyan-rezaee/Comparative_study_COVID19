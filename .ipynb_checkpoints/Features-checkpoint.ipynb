{
 "cells": [
  {
   "cell_type": "code",
   "execution_count": 1,
   "id": "5beeb67f",
   "metadata": {},
   "outputs": [],
   "source": [
    "import numpy as np\n",
    "import pandas as pd"
   ]
  },
  {
   "cell_type": "code",
   "execution_count": 2,
   "id": "f348d867",
   "metadata": {},
   "outputs": [],
   "source": [
    "df = pd.read_csv('owid-covid-data.csv')"
   ]
  },
  {
   "cell_type": "code",
   "execution_count": 3,
   "id": "39bac298",
   "metadata": {},
   "outputs": [],
   "source": [
    "countries = ['BRA', 'IDN', 'AUS', 'RUS', 'ZAF', 'USA']"
   ]
  },
  {
   "cell_type": "code",
   "execution_count": 14,
   "id": "6dc5c5e6",
   "metadata": {},
   "outputs": [],
   "source": [
    "hypertension_prev = {'USA' : 48.1, 'BRA' : 32.3, 'RUS' : 35.4, 'IDN' : 34.1, 'AUS' : 34, 'ZAF' : 40}"
   ]
  },
  {
   "cell_type": "code",
   "execution_count": 16,
   "id": "3a78d3d1",
   "metadata": {},
   "outputs": [],
   "source": [
    "CVD_prev = {\n",
    "    'USA' : 17.4,\n",
    "    'BRA' : 43.9,\n",
    "    'RUS' : 13.9,\n",
    "    'ZAF' : 17.1,\n",
    "    'IDN' : 37,\n",
    "    'AUS' : 2.9\n",
    "}"
   ]
  },
  {
   "cell_type": "code",
   "execution_count": 4,
   "id": "f06754eb",
   "metadata": {},
   "outputs": [],
   "source": [
    "df['total_deaths'] = df['total_deaths'].fillna(0)"
   ]
  },
  {
   "cell_type": "code",
   "execution_count": 8,
   "id": "5df97dad",
   "metadata": {},
   "outputs": [
    {
     "name": "stdout",
     "output_type": "stream",
     "text": [
      "[703719.0, 703719.0, 703719.0, 703719.0, 703719.0, 703719.0, 703964.0, 703964.0, 703964.0, 703964.0]\n",
      "[161867.0, 161870.0, 161870.0, 161871.0, 161872.0, 161874.0, 161878.0, 161879.0, 161879.0, 161879.0]\n",
      "[21685.0, 21685.0, 21685.0, 21685.0, 21685.0, 21685.0, 21917.0, 21917.0, 21917.0, 0.0]\n",
      "[399563.0, 399563.0, 399563.0, 399563.0, 399563.0, 399563.0, 399563.0, 399649.0, 399649.0, 399649.0]\n",
      "[102595.0, 102595.0, 102595.0, 102595.0, 102595.0, 102595.0, 102595.0, 102595.0, 102595.0, 102595.0]\n",
      "[1127152.0, 1127152.0, 1127152.0, 1127152.0, 1127152.0, 1127152.0, 1127152.0, 1127152.0, 1127152.0, 1127152.0]\n"
     ]
    }
   ],
   "source": [
    "for j in countries:\n",
    "    print(df[df['iso_code']==j]['total_deaths'].tolist()[-10:])"
   ]
  },
  {
   "cell_type": "code",
   "execution_count": 12,
   "id": "570914be",
   "metadata": {},
   "outputs": [],
   "source": [
    "Features = ['iso_code', 'continent', 'date', 'aged_65_older', 'diabetes_prevalence', 'hospital_beds_per_thousand', 'total_deaths']"
   ]
  },
  {
   "cell_type": "code",
   "execution_count": 13,
   "id": "18ef1f72",
   "metadata": {},
   "outputs": [
    {
     "name": "stdout",
     "output_type": "stream",
     "text": [
      "      iso_code      continent        date  aged_65_older  diabetes_prevalence  \\\n",
      "38418      BRA  South America  2020-01-03          8.552                 8.11   \n",
      "38419      BRA  South America  2020-01-04          8.552                 8.11   \n",
      "38420      BRA  South America  2020-01-05          8.552                 8.11   \n",
      "38421      BRA  South America  2020-01-06          8.552                 8.11   \n",
      "38422      BRA  South America  2020-01-07          8.552                 8.11   \n",
      "...        ...            ...         ...            ...                  ...   \n",
      "39693      BRA  South America  2023-07-01          8.552                 8.11   \n",
      "39694      BRA  South America  2023-07-02          8.552                 8.11   \n",
      "39695      BRA  South America  2023-07-03          8.552                 8.11   \n",
      "39696      BRA  South America  2023-07-04          8.552                 8.11   \n",
      "39697      BRA  South America  2023-07-05          8.552                 8.11   \n",
      "\n",
      "       hospital_beds_per_thousand  total_deaths  \n",
      "38418                         2.2           0.0  \n",
      "38419                         2.2           0.0  \n",
      "38420                         2.2           0.0  \n",
      "38421                         2.2           0.0  \n",
      "38422                         2.2           0.0  \n",
      "...                           ...           ...  \n",
      "39693                         2.2      703719.0  \n",
      "39694                         2.2      703964.0  \n",
      "39695                         2.2      703964.0  \n",
      "39696                         2.2      703964.0  \n",
      "39697                         2.2      703964.0  \n",
      "\n",
      "[1280 rows x 7 columns]\n",
      "       iso_code continent        date  aged_65_older  diabetes_prevalence  \\\n",
      "130492      IDN      Asia  2020-01-03          5.319                 6.32   \n",
      "130493      IDN      Asia  2020-01-04          5.319                 6.32   \n",
      "130494      IDN      Asia  2020-01-05          5.319                 6.32   \n",
      "130495      IDN      Asia  2020-01-06          5.319                 6.32   \n",
      "130496      IDN      Asia  2020-01-07          5.319                 6.32   \n",
      "...         ...       ...         ...            ...                  ...   \n",
      "131767      IDN      Asia  2023-07-01          5.319                 6.32   \n",
      "131768      IDN      Asia  2023-07-02          5.319                 6.32   \n",
      "131769      IDN      Asia  2023-07-03          5.319                 6.32   \n",
      "131770      IDN      Asia  2023-07-04          5.319                 6.32   \n",
      "131771      IDN      Asia  2023-07-05          5.319                 6.32   \n",
      "\n",
      "        hospital_beds_per_thousand  total_deaths  \n",
      "130492                        1.04           0.0  \n",
      "130493                        1.04           0.0  \n",
      "130494                        1.04           0.0  \n",
      "130495                        1.04           0.0  \n",
      "130496                        1.04           0.0  \n",
      "...                            ...           ...  \n",
      "131767                        1.04      161874.0  \n",
      "131768                        1.04      161878.0  \n",
      "131769                        1.04      161879.0  \n",
      "131770                        1.04      161879.0  \n",
      "131771                        1.04      161879.0  \n",
      "\n",
      "[1280 rows x 7 columns]\n",
      "      iso_code continent        date  aged_65_older  diabetes_prevalence  \\\n",
      "16653      AUS   Oceania  2020-01-03         15.504                 5.07   \n",
      "16654      AUS   Oceania  2020-01-04         15.504                 5.07   \n",
      "16655      AUS   Oceania  2020-01-05         15.504                 5.07   \n",
      "16656      AUS   Oceania  2020-01-06         15.504                 5.07   \n",
      "16657      AUS   Oceania  2020-01-07         15.504                 5.07   \n",
      "...        ...       ...         ...            ...                  ...   \n",
      "17929      AUS   Oceania  2023-07-02         15.504                 5.07   \n",
      "17930      AUS   Oceania  2023-07-03         15.504                 5.07   \n",
      "17931      AUS   Oceania  2023-07-04         15.504                 5.07   \n",
      "17932      AUS   Oceania  2023-07-05         15.504                 5.07   \n",
      "17933      AUS   Oceania  2023-07-06         15.504                 5.07   \n",
      "\n",
      "       hospital_beds_per_thousand  total_deaths  \n",
      "16653                        3.84           0.0  \n",
      "16654                        3.84           0.0  \n",
      "16655                        3.84           0.0  \n",
      "16656                        3.84           0.0  \n",
      "16657                        3.84           0.0  \n",
      "...                           ...           ...  \n",
      "17929                        3.84       21685.0  \n",
      "17930                        3.84       21917.0  \n",
      "17931                        3.84       21917.0  \n",
      "17932                        3.84       21917.0  \n",
      "17933                        3.84           0.0  \n",
      "\n",
      "[1281 rows x 7 columns]\n",
      "       iso_code continent        date  aged_65_older  diabetes_prevalence  \\\n",
      "236906      RUS    Europe  2020-01-03         14.178                 6.18   \n",
      "236907      RUS    Europe  2020-01-04         14.178                 6.18   \n",
      "236908      RUS    Europe  2020-01-05         14.178                 6.18   \n",
      "236909      RUS    Europe  2020-01-06         14.178                 6.18   \n",
      "236910      RUS    Europe  2020-01-07         14.178                 6.18   \n",
      "...         ...       ...         ...            ...                  ...   \n",
      "238181      RUS    Europe  2023-07-01         14.178                 6.18   \n",
      "238182      RUS    Europe  2023-07-02         14.178                 6.18   \n",
      "238183      RUS    Europe  2023-07-03         14.178                 6.18   \n",
      "238184      RUS    Europe  2023-07-04         14.178                 6.18   \n",
      "238185      RUS    Europe  2023-07-05         14.178                 6.18   \n",
      "\n",
      "        hospital_beds_per_thousand  total_deaths  \n",
      "236906                        8.05           0.0  \n",
      "236907                        8.05           0.0  \n",
      "236908                        8.05           0.0  \n",
      "236909                        8.05           0.0  \n",
      "236910                        8.05           0.0  \n",
      "...                            ...           ...  \n",
      "238181                        8.05      399563.0  \n",
      "238182                        8.05      399563.0  \n",
      "238183                        8.05      399649.0  \n",
      "238184                        8.05      399649.0  \n",
      "238185                        8.05      399649.0  \n",
      "\n",
      "[1280 rows x 7 columns]\n",
      "       iso_code continent        date  aged_65_older  diabetes_prevalence  \\\n",
      "267553      ZAF    Africa  2020-01-03          5.344                 5.52   \n",
      "267554      ZAF    Africa  2020-01-04          5.344                 5.52   \n",
      "267555      ZAF    Africa  2020-01-05          5.344                 5.52   \n",
      "267556      ZAF    Africa  2020-01-06          5.344                 5.52   \n",
      "267557      ZAF    Africa  2020-01-07          5.344                 5.52   \n",
      "...         ...       ...         ...            ...                  ...   \n",
      "268828      ZAF    Africa  2023-07-01          5.344                 5.52   \n",
      "268829      ZAF    Africa  2023-07-02          5.344                 5.52   \n",
      "268830      ZAF    Africa  2023-07-03          5.344                 5.52   \n",
      "268831      ZAF    Africa  2023-07-04          5.344                 5.52   \n",
      "268832      ZAF    Africa  2023-07-05          5.344                 5.52   \n",
      "\n",
      "        hospital_beds_per_thousand  total_deaths  \n",
      "267553                        2.32           0.0  \n",
      "267554                        2.32           0.0  \n",
      "267555                        2.32           0.0  \n",
      "267556                        2.32           0.0  \n",
      "267557                        2.32           0.0  \n",
      "...                            ...           ...  \n",
      "268828                        2.32      102595.0  \n",
      "268829                        2.32      102595.0  \n",
      "268830                        2.32      102595.0  \n",
      "268831                        2.32      102595.0  \n",
      "268832                        2.32      102595.0  \n",
      "\n",
      "[1280 rows x 7 columns]\n",
      "       iso_code      continent        date  aged_65_older  \\\n",
      "304673      USA  North America  2020-01-03         15.413   \n",
      "304674      USA  North America  2020-01-04         15.413   \n",
      "304675      USA  North America  2020-01-05         15.413   \n",
      "304676      USA  North America  2020-01-06         15.413   \n",
      "304677      USA  North America  2020-01-07         15.413   \n",
      "...         ...            ...         ...            ...   \n",
      "305948      USA  North America  2023-07-01         15.413   \n",
      "305949      USA  North America  2023-07-02         15.413   \n",
      "305950      USA  North America  2023-07-03         15.413   \n",
      "305951      USA  North America  2023-07-04         15.413   \n",
      "305952      USA  North America  2023-07-05         15.413   \n",
      "\n",
      "        diabetes_prevalence  hospital_beds_per_thousand  total_deaths  \n",
      "304673                10.79                        2.77           0.0  \n",
      "304674                10.79                        2.77           0.0  \n",
      "304675                10.79                        2.77           0.0  \n",
      "304676                10.79                        2.77           0.0  \n",
      "304677                10.79                        2.77           0.0  \n",
      "...                     ...                         ...           ...  \n",
      "305948                10.79                        2.77     1127152.0  \n",
      "305949                10.79                        2.77     1127152.0  \n",
      "305950                10.79                        2.77     1127152.0  \n",
      "305951                10.79                        2.77     1127152.0  \n",
      "305952                10.79                        2.77     1127152.0  \n",
      "\n",
      "[1280 rows x 7 columns]\n"
     ]
    }
   ],
   "source": [
    "data = pd.DataFrame()\n",
    "for c in countries:\n",
    "    print(df[df['iso_code']== c][Features])\n"
   ]
  },
  {
   "cell_type": "code",
   "execution_count": null,
   "id": "c694dd7f",
   "metadata": {},
   "outputs": [],
   "source": []
  }
 ],
 "metadata": {
  "kernelspec": {
   "display_name": "Python 3 (ipykernel)",
   "language": "python",
   "name": "python3"
  },
  "language_info": {
   "codemirror_mode": {
    "name": "ipython",
    "version": 3
   },
   "file_extension": ".py",
   "mimetype": "text/x-python",
   "name": "python",
   "nbconvert_exporter": "python",
   "pygments_lexer": "ipython3",
   "version": "3.8.16"
  }
 },
 "nbformat": 4,
 "nbformat_minor": 5
}
