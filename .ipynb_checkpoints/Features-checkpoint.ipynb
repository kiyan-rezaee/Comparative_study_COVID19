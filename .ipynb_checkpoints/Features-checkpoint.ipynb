{
 "cells": [
  {
   "cell_type": "code",
   "execution_count": 1,
   "id": "5beeb67f",
   "metadata": {},
   "outputs": [],
   "source": [
    "import numpy as np\n",
    "import pandas as pd\n",
    "import itertools\n"
   ]
  },
  {
   "cell_type": "code",
   "execution_count": 2,
   "id": "f348d867",
   "metadata": {},
   "outputs": [],
   "source": [
    "df = pd.read_csv('owid-covid-data.csv')"
   ]
  },
  {
   "cell_type": "code",
   "execution_count": 3,
   "id": "39bac298",
   "metadata": {},
   "outputs": [],
   "source": [
    "countries = ['USA',\n",
    "    'BRA',\n",
    "    'RUS',\n",
    "    'IDN',\n",
    "    'ZAF',\n",
    "    'AUS']"
   ]
  },
  {
   "cell_type": "code",
   "execution_count": 4,
   "id": "6dc5c5e6",
   "metadata": {},
   "outputs": [],
   "source": [
    "hypertension_prev = {'USA' : 48.1, 'BRA' : 32.3, 'RUS' : 35.4, 'IDN' : 34.1, 'ZAF' : 40, 'AUS' : 34}"
   ]
  },
  {
   "cell_type": "code",
   "execution_count": 5,
   "id": "3a78d3d1",
   "metadata": {},
   "outputs": [],
   "source": [
    "CVD_prev = {\n",
    "    'USA' : 17.4,\n",
    "    'BRA' : 43.9,\n",
    "    'RUS' : 13.9,\n",
    "    'IDN' : 37,\n",
    "    'ZAF' : 17.1,\n",
    "    'AUS' : 2.9\n",
    "    \n",
    "}"
   ]
  },
  {
   "cell_type": "code",
   "execution_count": 6,
   "id": "f06754eb",
   "metadata": {},
   "outputs": [],
   "source": [
    "df['total_deaths'] = df['total_deaths'].fillna(0)"
   ]
  },
  {
   "cell_type": "code",
   "execution_count": 7,
   "id": "5df97dad",
   "metadata": {},
   "outputs": [
    {
     "name": "stdout",
     "output_type": "stream",
     "text": [
      "[1127152.0, 1127152.0, 1127152.0, 1127152.0, 1127152.0, 1127152.0, 1127152.0, 1127152.0, 1127152.0, 1127152.0]\n",
      "[703719.0, 703719.0, 703719.0, 703719.0, 703719.0, 703719.0, 703964.0, 703964.0, 703964.0, 703964.0]\n",
      "[399563.0, 399563.0, 399563.0, 399563.0, 399563.0, 399563.0, 399563.0, 399649.0, 399649.0, 399649.0]\n",
      "[161867.0, 161870.0, 161870.0, 161871.0, 161872.0, 161874.0, 161878.0, 161879.0, 161879.0, 161879.0]\n",
      "[102595.0, 102595.0, 102595.0, 102595.0, 102595.0, 102595.0, 102595.0, 102595.0, 102595.0, 102595.0]\n",
      "[21685.0, 21685.0, 21685.0, 21685.0, 21685.0, 21685.0, 21917.0, 21917.0, 21917.0, 0.0]\n"
     ]
    }
   ],
   "source": [
    "for j in countries:\n",
    "    print(df[df['iso_code']==j]['total_deaths'].tolist()[-10:])"
   ]
  },
  {
   "cell_type": "code",
   "execution_count": 8,
   "id": "6e886b17",
   "metadata": {},
   "outputs": [
    {
     "data": {
      "text/plain": [
       "Index(['iso_code', 'continent', 'location', 'date', 'total_cases', 'new_cases',\n",
       "       'new_cases_smoothed', 'total_deaths', 'new_deaths',\n",
       "       'new_deaths_smoothed', 'total_cases_per_million',\n",
       "       'new_cases_per_million', 'new_cases_smoothed_per_million',\n",
       "       'total_deaths_per_million', 'new_deaths_per_million',\n",
       "       'new_deaths_smoothed_per_million', 'reproduction_rate', 'icu_patients',\n",
       "       'icu_patients_per_million', 'hosp_patients',\n",
       "       'hosp_patients_per_million', 'weekly_icu_admissions',\n",
       "       'weekly_icu_admissions_per_million', 'weekly_hosp_admissions',\n",
       "       'weekly_hosp_admissions_per_million', 'total_tests', 'new_tests',\n",
       "       'total_tests_per_thousand', 'new_tests_per_thousand',\n",
       "       'new_tests_smoothed', 'new_tests_smoothed_per_thousand',\n",
       "       'positive_rate', 'tests_per_case', 'tests_units', 'total_vaccinations',\n",
       "       'people_vaccinated', 'people_fully_vaccinated', 'total_boosters',\n",
       "       'new_vaccinations', 'new_vaccinations_smoothed',\n",
       "       'total_vaccinations_per_hundred', 'people_vaccinated_per_hundred',\n",
       "       'people_fully_vaccinated_per_hundred', 'total_boosters_per_hundred',\n",
       "       'new_vaccinations_smoothed_per_million',\n",
       "       'new_people_vaccinated_smoothed',\n",
       "       'new_people_vaccinated_smoothed_per_hundred', 'stringency_index',\n",
       "       'population_density', 'median_age', 'aged_65_older', 'aged_70_older',\n",
       "       'gdp_per_capita', 'extreme_poverty', 'cardiovasc_death_rate',\n",
       "       'diabetes_prevalence', 'female_smokers', 'male_smokers',\n",
       "       'handwashing_facilities', 'hospital_beds_per_thousand',\n",
       "       'life_expectancy', 'human_development_index', 'population',\n",
       "       'excess_mortality_cumulative_absolute', 'excess_mortality_cumulative',\n",
       "       'excess_mortality', 'excess_mortality_cumulative_per_million'],\n",
       "      dtype='object')"
      ]
     },
     "execution_count": 8,
     "metadata": {},
     "output_type": "execute_result"
    }
   ],
   "source": [
    "df.columns"
   ]
  },
  {
   "cell_type": "code",
   "execution_count": 9,
   "id": "570914be",
   "metadata": {},
   "outputs": [],
   "source": [
    "Features = ['iso_code', 'continent', 'date','location', 'aged_65_older', 'diabetes_prevalence', 'hospital_beds_per_thousand', 'total_deaths', 'reproduction_rate', 'stringency_index', 'people_vaccinated', 'people_fully_vaccinated', 'new_cases_smoothed_per_million', 'new_deaths_smoothed_per_million']"
   ]
  },
  {
   "cell_type": "code",
   "execution_count": 10,
   "id": "18ef1f72",
   "metadata": {},
   "outputs": [
    {
     "name": "stderr",
     "output_type": "stream",
     "text": [
      "C:\\Users\\kiyan\\AppData\\Local\\Temp\\ipykernel_11048\\3069236302.py:3: FutureWarning: The frame.append method is deprecated and will be removed from pandas in a future version. Use pandas.concat instead.\n",
      "  data = data.append(df[df['iso_code']== c][Features], ignore_index=True)\n",
      "C:\\Users\\kiyan\\AppData\\Local\\Temp\\ipykernel_11048\\3069236302.py:3: FutureWarning: The frame.append method is deprecated and will be removed from pandas in a future version. Use pandas.concat instead.\n",
      "  data = data.append(df[df['iso_code']== c][Features], ignore_index=True)\n",
      "C:\\Users\\kiyan\\AppData\\Local\\Temp\\ipykernel_11048\\3069236302.py:3: FutureWarning: The frame.append method is deprecated and will be removed from pandas in a future version. Use pandas.concat instead.\n",
      "  data = data.append(df[df['iso_code']== c][Features], ignore_index=True)\n",
      "C:\\Users\\kiyan\\AppData\\Local\\Temp\\ipykernel_11048\\3069236302.py:3: FutureWarning: The frame.append method is deprecated and will be removed from pandas in a future version. Use pandas.concat instead.\n",
      "  data = data.append(df[df['iso_code']== c][Features], ignore_index=True)\n",
      "C:\\Users\\kiyan\\AppData\\Local\\Temp\\ipykernel_11048\\3069236302.py:3: FutureWarning: The frame.append method is deprecated and will be removed from pandas in a future version. Use pandas.concat instead.\n",
      "  data = data.append(df[df['iso_code']== c][Features], ignore_index=True)\n",
      "C:\\Users\\kiyan\\AppData\\Local\\Temp\\ipykernel_11048\\3069236302.py:3: FutureWarning: The frame.append method is deprecated and will be removed from pandas in a future version. Use pandas.concat instead.\n",
      "  data = data.append(df[df['iso_code']== c][Features], ignore_index=True)\n"
     ]
    }
   ],
   "source": [
    "data = pd.DataFrame(columns=Features)\n",
    "for c in countries:\n",
    "    data = data.append(df[df['iso_code']== c][Features], ignore_index=True)\n"
   ]
  },
  {
   "cell_type": "code",
   "execution_count": 11,
   "id": "1acf66c2",
   "metadata": {},
   "outputs": [],
   "source": [
    "data.drop(data.index[-1], inplace=True)"
   ]
  },
  {
   "cell_type": "code",
   "execution_count": 12,
   "id": "c694dd7f",
   "metadata": {
    "scrolled": false
   },
   "outputs": [
    {
     "name": "stdout",
     "output_type": "stream",
     "text": [
      "USA 1280\n",
      "BRA 1280\n",
      "RUS 1280\n",
      "IDN 1280\n",
      "ZAF 1280\n",
      "AUS 1280\n"
     ]
    }
   ],
   "source": [
    "for j in countries:\n",
    "    print(j, len(data[data['iso_code']==j]))"
   ]
  },
  {
   "cell_type": "code",
   "execution_count": 13,
   "id": "f574e4f4",
   "metadata": {},
   "outputs": [],
   "source": [
    "Hyper_value = []\n",
    "CVD_value = []\n",
    "for k in hypertension_prev.values():\n",
    "    Hyper_value.append([k]*1280)\n",
    "for j in CVD_prev.values():    \n",
    "    CVD_value.append([j]*1280)"
   ]
  },
  {
   "cell_type": "code",
   "execution_count": 14,
   "id": "0671fe29",
   "metadata": {},
   "outputs": [],
   "source": [
    "Hyper_value = list(itertools.chain(*Hyper_value))\n"
   ]
  },
  {
   "cell_type": "code",
   "execution_count": 15,
   "id": "cf95e297",
   "metadata": {},
   "outputs": [],
   "source": [
    "CVD_value = list(itertools.chain(*CVD_value))\n"
   ]
  },
  {
   "cell_type": "code",
   "execution_count": 17,
   "id": "d731107d",
   "metadata": {},
   "outputs": [],
   "source": [
    "data['Hypertension prevalence'] = Hyper_value\n",
    "data['CVD prevalence'] = CVD_value"
   ]
  },
  {
   "cell_type": "code",
   "execution_count": 20,
   "id": "25b79416",
   "metadata": {},
   "outputs": [],
   "source": [
    "data['people_vaccinated_partially'] = data['people_fully_vaccinated'] - data['people_vaccinated']"
   ]
  },
  {
   "cell_type": "code",
   "execution_count": 23,
   "id": "7f6fb6d5",
   "metadata": {},
   "outputs": [
    {
     "data": {
      "text/html": [
       "<div>\n",
       "<style scoped>\n",
       "    .dataframe tbody tr th:only-of-type {\n",
       "        vertical-align: middle;\n",
       "    }\n",
       "\n",
       "    .dataframe tbody tr th {\n",
       "        vertical-align: top;\n",
       "    }\n",
       "\n",
       "    .dataframe thead th {\n",
       "        text-align: right;\n",
       "    }\n",
       "</style>\n",
       "<table border=\"1\" class=\"dataframe\">\n",
       "  <thead>\n",
       "    <tr style=\"text-align: right;\">\n",
       "      <th></th>\n",
       "      <th>iso_code</th>\n",
       "      <th>continent</th>\n",
       "      <th>date</th>\n",
       "      <th>location</th>\n",
       "      <th>aged_65_older</th>\n",
       "      <th>diabetes_prevalence</th>\n",
       "      <th>hospital_beds_per_thousand</th>\n",
       "      <th>total_deaths</th>\n",
       "      <th>reproduction_rate</th>\n",
       "      <th>stringency_index</th>\n",
       "      <th>people_vaccinated</th>\n",
       "      <th>people_fully_vaccinated</th>\n",
       "      <th>new_cases_smoothed_per_million</th>\n",
       "      <th>new_deaths_smoothed_per_million</th>\n",
       "      <th>Hypertension prevalence</th>\n",
       "      <th>CVD prevalence</th>\n",
       "      <th>people_vaccinated_partially</th>\n",
       "    </tr>\n",
       "  </thead>\n",
       "  <tbody>\n",
       "    <tr>\n",
       "      <th>0</th>\n",
       "      <td>USA</td>\n",
       "      <td>North America</td>\n",
       "      <td>2020-01-03</td>\n",
       "      <td>United States</td>\n",
       "      <td>15.413</td>\n",
       "      <td>10.79</td>\n",
       "      <td>2.77</td>\n",
       "      <td>0.0</td>\n",
       "      <td>0.0</td>\n",
       "      <td>0.0</td>\n",
       "      <td>0.0</td>\n",
       "      <td>0.0</td>\n",
       "      <td>0.0</td>\n",
       "      <td>0.0</td>\n",
       "      <td>48.1</td>\n",
       "      <td>17.4</td>\n",
       "      <td>0.0</td>\n",
       "    </tr>\n",
       "    <tr>\n",
       "      <th>1</th>\n",
       "      <td>USA</td>\n",
       "      <td>North America</td>\n",
       "      <td>2020-01-04</td>\n",
       "      <td>United States</td>\n",
       "      <td>15.413</td>\n",
       "      <td>10.79</td>\n",
       "      <td>2.77</td>\n",
       "      <td>0.0</td>\n",
       "      <td>0.0</td>\n",
       "      <td>0.0</td>\n",
       "      <td>0.0</td>\n",
       "      <td>0.0</td>\n",
       "      <td>0.0</td>\n",
       "      <td>0.0</td>\n",
       "      <td>48.1</td>\n",
       "      <td>17.4</td>\n",
       "      <td>0.0</td>\n",
       "    </tr>\n",
       "    <tr>\n",
       "      <th>2</th>\n",
       "      <td>USA</td>\n",
       "      <td>North America</td>\n",
       "      <td>2020-01-05</td>\n",
       "      <td>United States</td>\n",
       "      <td>15.413</td>\n",
       "      <td>10.79</td>\n",
       "      <td>2.77</td>\n",
       "      <td>0.0</td>\n",
       "      <td>0.0</td>\n",
       "      <td>0.0</td>\n",
       "      <td>0.0</td>\n",
       "      <td>0.0</td>\n",
       "      <td>0.0</td>\n",
       "      <td>0.0</td>\n",
       "      <td>48.1</td>\n",
       "      <td>17.4</td>\n",
       "      <td>0.0</td>\n",
       "    </tr>\n",
       "    <tr>\n",
       "      <th>3</th>\n",
       "      <td>USA</td>\n",
       "      <td>North America</td>\n",
       "      <td>2020-01-06</td>\n",
       "      <td>United States</td>\n",
       "      <td>15.413</td>\n",
       "      <td>10.79</td>\n",
       "      <td>2.77</td>\n",
       "      <td>0.0</td>\n",
       "      <td>0.0</td>\n",
       "      <td>0.0</td>\n",
       "      <td>0.0</td>\n",
       "      <td>0.0</td>\n",
       "      <td>0.0</td>\n",
       "      <td>0.0</td>\n",
       "      <td>48.1</td>\n",
       "      <td>17.4</td>\n",
       "      <td>0.0</td>\n",
       "    </tr>\n",
       "    <tr>\n",
       "      <th>4</th>\n",
       "      <td>USA</td>\n",
       "      <td>North America</td>\n",
       "      <td>2020-01-07</td>\n",
       "      <td>United States</td>\n",
       "      <td>15.413</td>\n",
       "      <td>10.79</td>\n",
       "      <td>2.77</td>\n",
       "      <td>0.0</td>\n",
       "      <td>0.0</td>\n",
       "      <td>0.0</td>\n",
       "      <td>0.0</td>\n",
       "      <td>0.0</td>\n",
       "      <td>0.0</td>\n",
       "      <td>0.0</td>\n",
       "      <td>48.1</td>\n",
       "      <td>17.4</td>\n",
       "      <td>0.0</td>\n",
       "    </tr>\n",
       "  </tbody>\n",
       "</table>\n",
       "</div>"
      ],
      "text/plain": [
       "  iso_code      continent        date       location  aged_65_older  \\\n",
       "0      USA  North America  2020-01-03  United States         15.413   \n",
       "1      USA  North America  2020-01-04  United States         15.413   \n",
       "2      USA  North America  2020-01-05  United States         15.413   \n",
       "3      USA  North America  2020-01-06  United States         15.413   \n",
       "4      USA  North America  2020-01-07  United States         15.413   \n",
       "\n",
       "   diabetes_prevalence  hospital_beds_per_thousand  total_deaths  \\\n",
       "0                10.79                        2.77           0.0   \n",
       "1                10.79                        2.77           0.0   \n",
       "2                10.79                        2.77           0.0   \n",
       "3                10.79                        2.77           0.0   \n",
       "4                10.79                        2.77           0.0   \n",
       "\n",
       "   reproduction_rate  stringency_index  people_vaccinated  \\\n",
       "0                0.0               0.0                0.0   \n",
       "1                0.0               0.0                0.0   \n",
       "2                0.0               0.0                0.0   \n",
       "3                0.0               0.0                0.0   \n",
       "4                0.0               0.0                0.0   \n",
       "\n",
       "   people_fully_vaccinated  new_cases_smoothed_per_million  \\\n",
       "0                      0.0                             0.0   \n",
       "1                      0.0                             0.0   \n",
       "2                      0.0                             0.0   \n",
       "3                      0.0                             0.0   \n",
       "4                      0.0                             0.0   \n",
       "\n",
       "   new_deaths_smoothed_per_million  Hypertension prevalence  CVD prevalence  \\\n",
       "0                              0.0                     48.1            17.4   \n",
       "1                              0.0                     48.1            17.4   \n",
       "2                              0.0                     48.1            17.4   \n",
       "3                              0.0                     48.1            17.4   \n",
       "4                              0.0                     48.1            17.4   \n",
       "\n",
       "   people_vaccinated_partially  \n",
       "0                          0.0  \n",
       "1                          0.0  \n",
       "2                          0.0  \n",
       "3                          0.0  \n",
       "4                          0.0  "
      ]
     },
     "execution_count": 23,
     "metadata": {},
     "output_type": "execute_result"
    }
   ],
   "source": [
    "data.head()"
   ]
  }
 ],
 "metadata": {
  "kernelspec": {
   "display_name": "Python 3 (ipykernel)",
   "language": "python",
   "name": "python3"
  },
  "language_info": {
   "codemirror_mode": {
    "name": "ipython",
    "version": 3
   },
   "file_extension": ".py",
   "mimetype": "text/x-python",
   "name": "python",
   "nbconvert_exporter": "python",
   "pygments_lexer": "ipython3",
   "version": "3.8.16"
  }
 },
 "nbformat": 4,
 "nbformat_minor": 5
}
